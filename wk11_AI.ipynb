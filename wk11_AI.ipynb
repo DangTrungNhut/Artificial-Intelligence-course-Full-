{
  "nbformat": 4,
  "nbformat_minor": 0,
  "metadata": {
    "colab": {
      "provenance": [],
      "authorship_tag": "ABX9TyMdxfe9HIkGuCfXjtsBZDt1",
      "include_colab_link": true
    },
    "kernelspec": {
      "name": "python3",
      "display_name": "Python 3"
    },
    "language_info": {
      "name": "python"
    }
  },
  "cells": [
    {
      "cell_type": "markdown",
      "metadata": {
        "id": "view-in-github",
        "colab_type": "text"
      },
      "source": [
        "<a href=\"https://colab.research.google.com/github/DangTrungNhut/Artificial_Intelligence_Course/blob/main/wk11_AI.ipynb\" target=\"_parent\"><img src=\"https://colab.research.google.com/assets/colab-badge.svg\" alt=\"Open In Colab\"/></a>"
      ]
    },
    {
      "cell_type": "code",
      "execution_count": null,
      "metadata": {
        "id": "P4J-mb8bKhet"
      },
      "outputs": [],
      "source": [
        "import numpy as np\n",
        "import matplotlib.pyplot as plt\n",
        "from keras.datasets import fashion_mnist\n",
        "from tensorflow.keras.layers import Conv2D, MaxPooling2D, Flatten, Dropout, Dense, Normalization, LeakyReLU\n",
        "from keras.utils import to_categorical\n",
        "from keras import Sequential\n",
        "from keras.optimizers import Adam\n",
        "from keras.models import load_model"
      ]
    },
    {
      "cell_type": "code",
      "source": [
        "(X_train, y_train), (X_test ,y_test) = fashion_mnist.load_data()\n",
        "X=X_test"
      ],
      "metadata": {
        "colab": {
          "base_uri": "https://localhost:8080/"
        },
        "id": "40en0TEKKls3",
        "outputId": "008493be-dd2a-44b7-a83b-f97e9eb76f0c"
      },
      "execution_count": null,
      "outputs": [
        {
          "output_type": "stream",
          "name": "stdout",
          "text": [
            "Downloading data from https://storage.googleapis.com/tensorflow/tf-keras-datasets/train-labels-idx1-ubyte.gz\n",
            "29515/29515 [==============================] - 0s 0us/step\n",
            "Downloading data from https://storage.googleapis.com/tensorflow/tf-keras-datasets/train-images-idx3-ubyte.gz\n",
            "26421880/26421880 [==============================] - 1s 0us/step\n",
            "Downloading data from https://storage.googleapis.com/tensorflow/tf-keras-datasets/t10k-labels-idx1-ubyte.gz\n",
            "5148/5148 [==============================] - 0s 0us/step\n",
            "Downloading data from https://storage.googleapis.com/tensorflow/tf-keras-datasets/t10k-images-idx3-ubyte.gz\n",
            "4422102/4422102 [==============================] - 0s 0us/step\n"
          ]
        }
      ]
    },
    {
      "cell_type": "code",
      "source": [
        "X_train.shape"
      ],
      "metadata": {
        "colab": {
          "base_uri": "https://localhost:8080/"
        },
        "id": "lCMWwL1YLIoP",
        "outputId": "522a226f-3369-4b6d-b6b7-e25563d50e61"
      },
      "execution_count": null,
      "outputs": [
        {
          "output_type": "execute_result",
          "data": {
            "text/plain": [
              "(60000, 28, 28)"
            ]
          },
          "metadata": {},
          "execution_count": 4
        }
      ]
    },
    {
      "cell_type": "code",
      "source": [
        "plt.imshow(X_train[0], cmap='gray')\n",
        "plt.show()"
      ],
      "metadata": {
        "colab": {
          "base_uri": "https://localhost:8080/",
          "height": 430
        },
        "id": "2kdiUh6LLKv0",
        "outputId": "17381120-a85c-4fea-859c-10b0b1c31fb2"
      },
      "execution_count": null,
      "outputs": [
        {
          "output_type": "display_data",
          "data": {
            "text/plain": [
              "<Figure size 640x480 with 1 Axes>"
            ],
            "image/png": "[encoded data removed]"
          },
          "metadata": {}
        }
      ]
    },
    {
      "cell_type": "code",
      "source": [
        "X_train = X_train.reshape(60000, 28, 28, 1)/255.0\n",
        "X_test = X_test.reshape(10000, 28, 28, 1)/255.0\n",
        "\n",
        "y_train = to_categorical(y_train, 10)\n",
        "y_test = to_categorical(y_test, 10)\n",
        "print(y_test.shape)"
      ],
      "metadata": {
        "colab": {
          "base_uri": "https://localhost:8080/"
        },
        "id": "ofUTYT4ULMdW",
        "outputId": "80dc50e5-e4f4-4059-b82d-859ca9480baf"
      },
      "execution_count": null,
      "outputs": [
        {
          "output_type": "stream",
          "name": "stdout",
          "text": [
            "(10000, 10)\n"
          ]
        }
      ]
    },
    {
      "cell_type": "code",
      "source": [
        "from keras.api._v2.keras import activations\n",
        "model = Sequential()\n",
        "model.add(Conv2D(32, (3,3), strides = (1,1), padding='same', activation='relu', input_shape=(28, 28, 1)))\n",
        "model.add(LeakyReLU(alpha=0.1))\n",
        "model.add(MaxPooling2D((2,2), padding='same'))\n",
        "model.add(Conv2D(64, (3,3), strides = (1,1), padding='same', activation='linear'))\n",
        "model.add(LeakyReLU(alpha=0.1))\n",
        "model.add(MaxPooling2D((2,2), padding='same'))\n",
        "model.add(Flatten())\n",
        "model.add(Dense(512, activation = 'linear'))\n",
        "model.add(LeakyReLU(alpha=0.1))\n",
        "model.add(Dense(10, activation='softmax'))\n",
        "\n",
        "model.summary()"
      ],
      "metadata": {
        "colab": {
          "base_uri": "https://localhost:8080/"
        },
        "id": "RD7hp5HLLOWI",
        "outputId": "69afc289-d229-4f17-ffbb-f62b63a6c1d3"
      },
      "execution_count": null,
      "outputs": [
        {
          "output_type": "stream",
          "name": "stdout",
          "text": [
            "Model: \"sequential\"\n",
            "_________________________________________________________________\n",
            " Layer (type)                Output Shape              Param #   \n",
            "=================================================================\n",
            " conv2d (Conv2D)             (None, 28, 28, 32)        320       \n",
            "                                                                 \n",
            " leaky_re_lu (LeakyReLU)     (None, 28, 28, 32)        0         \n",
            "                                                                 \n",
            " max_pooling2d (MaxPooling2D  (None, 14, 14, 32)       0         \n",
            " )                                                               \n",
            "                                                                 \n",
            " conv2d_1 (Conv2D)           (None, 14, 14, 64)        18496     \n",
            "                                                                 \n",
            " leaky_re_lu_1 (LeakyReLU)   (None, 14, 14, 64)        0         \n",
            "                                                                 \n",
            " max_pooling2d_1 (MaxPooling  (None, 7, 7, 64)         0         \n",
            " 2D)                                                             \n",
            "                                                                 \n",
            " flatten (Flatten)           (None, 3136)              0         \n",
            "                                                                 \n",
            " dense (Dense)               (None, 512)               1606144   \n",
            "                                                                 \n",
            " leaky_re_lu_2 (LeakyReLU)   (None, 512)               0         \n",
            "                                                                 \n",
            " dense_1 (Dense)             (None, 10)                5130      \n",
            "                                                                 \n",
            "=================================================================\n",
            "Total params: 1,630,090\n",
            "Trainable params: 1,630,090\n",
            "Non-trainable params: 0\n",
            "_________________________________________________________________\n"
          ]
        }
      ]
    },
    {
      "cell_type": "code",
      "source": [
        "model.compile(optimizer=Adam(learning_rate=0.001), loss='categorical_crossentropy', metrics=['accuracy'])"
      ],
      "metadata": {
        "id": "iixvZpJlLQia"
      },
      "execution_count": null,
      "outputs": []
    },
    {
      "cell_type": "code",
      "source": [
        "model.fit(X_train, y_train, validation_data=(X_test, y_test), batch_size=64, epochs=20)"
      ],
      "metadata": {
        "colab": {
          "base_uri": "https://localhost:8080/"
        },
        "id": "hMJzKwnVLSzP",
        "outputId": "72081d8e-33fa-49eb-c70c-e63b01379936"
      },
      "execution_count": null,
      "outputs": [
        {
          "output_type": "stream",
          "name": "stdout",
          "text": [
            "Epoch 1/20\n",
            "938/938 [==============================] - 115s 122ms/step - loss: 0.3877 - accuracy: 0.8608 - val_loss: 0.3021 - val_accuracy: 0.8913\n",
            "Epoch 2/20\n",
            "938/938 [==============================] - 109s 116ms/step - loss: 0.2503 - accuracy: 0.9086 - val_loss: 0.2556 - val_accuracy: 0.9059\n",
            "Epoch 3/20\n",
            "938/938 [==============================] - 109s 117ms/step - loss: 0.2051 - accuracy: 0.9238 - val_loss: 0.2428 - val_accuracy: 0.9142\n",
            "Epoch 4/20\n",
            "938/938 [==============================] - 115s 122ms/step - loss: 0.1747 - accuracy: 0.9352 - val_loss: 0.2527 - val_accuracy: 0.9096\n",
            "Epoch 5/20\n",
            "938/938 [==============================] - 110s 117ms/step - loss: 0.1469 - accuracy: 0.9456 - val_loss: 0.2273 - val_accuracy: 0.9192\n",
            "Epoch 6/20\n",
            "938/938 [==============================] - 112s 119ms/step - loss: 0.1225 - accuracy: 0.9546 - val_loss: 0.2462 - val_accuracy: 0.9201\n",
            "Epoch 7/20\n",
            "938/938 [==============================] - 110s 117ms/step - loss: 0.1016 - accuracy: 0.9621 - val_loss: 0.2589 - val_accuracy: 0.9226\n",
            "Epoch 8/20\n",
            "938/938 [==============================] - 109s 117ms/step - loss: 0.0839 - accuracy: 0.9687 - val_loss: 0.2743 - val_accuracy: 0.9220\n",
            "Epoch 9/20\n",
            "938/938 [==============================] - 109s 116ms/step - loss: 0.0664 - accuracy: 0.9753 - val_loss: 0.2754 - val_accuracy: 0.9273\n",
            "Epoch 10/20\n",
            "938/938 [==============================] - 108s 115ms/step - loss: 0.0529 - accuracy: 0.9800 - val_loss: 0.3346 - val_accuracy: 0.9166\n",
            "Epoch 11/20\n",
            "938/938 [==============================] - 108s 115ms/step - loss: 0.0484 - accuracy: 0.9821 - val_loss: 0.3537 - val_accuracy: 0.9178\n",
            "Epoch 12/20\n",
            "938/938 [==============================] - 112s 119ms/step - loss: 0.0366 - accuracy: 0.9868 - val_loss: 0.3889 - val_accuracy: 0.9132\n",
            "Epoch 13/20\n",
            "938/938 [==============================] - 107s 114ms/step - loss: 0.0340 - accuracy: 0.9880 - val_loss: 0.4104 - val_accuracy: 0.9187\n",
            "Epoch 14/20\n",
            "938/938 [==============================] - 108s 115ms/step - loss: 0.0295 - accuracy: 0.9893 - val_loss: 0.4175 - val_accuracy: 0.9215\n",
            "Epoch 15/20\n",
            "938/938 [==============================] - 107s 114ms/step - loss: 0.0240 - accuracy: 0.9916 - val_loss: 0.4190 - val_accuracy: 0.9205\n",
            "Epoch 16/20\n",
            "938/938 [==============================] - 116s 124ms/step - loss: 0.0252 - accuracy: 0.9907 - val_loss: 0.4599 - val_accuracy: 0.9162\n",
            "Epoch 17/20\n",
            "938/938 [==============================] - 109s 116ms/step - loss: 0.0244 - accuracy: 0.9915 - val_loss: 0.4620 - val_accuracy: 0.9206\n",
            "Epoch 18/20\n",
            "938/938 [==============================] - 113s 120ms/step - loss: 0.0198 - accuracy: 0.9928 - val_loss: 0.5002 - val_accuracy: 0.9201\n",
            "Epoch 19/20\n",
            "938/938 [==============================] - 107s 114ms/step - loss: 0.0210 - accuracy: 0.9926 - val_loss: 0.5423 - val_accuracy: 0.9197\n",
            "Epoch 20/20\n",
            "938/938 [==============================] - 107s 115ms/step - loss: 0.0188 - accuracy: 0.9934 - val_loss: 0.5185 - val_accuracy: 0.9230\n"
          ]
        },
        {
          "output_type": "execute_result",
          "data": {
            "text/plain": [
              "<keras.callbacks.History at 0x7f4aa80aefd0>"
            ]
          },
          "metadata": {},
          "execution_count": 9
        }
      ]
    },
    {
      "cell_type": "code",
      "source": [
        "#Kết nối với drive\n",
        "from google.colab import drive\n",
        "drive.mount('/content/drive')"
      ],
      "metadata": {
        "id": "8B0RaRAYLT-D",
        "colab": {
          "base_uri": "https://localhost:8080/"
        },
        "outputId": "2d96ccfe-cb48-4809-fe3e-33fe64f4ce4f"
      },
      "execution_count": 3,
      "outputs": [
        {
          "output_type": "stream",
          "name": "stdout",
          "text": [
            "Mounted at /content/drive\n"
          ]
        }
      ]
    },
    {
      "cell_type": "code",
      "source": [
        "model.save('/content/drive/MyDrive/AI_COURSE/wk11_AI/model_fashion.h5')"
      ],
      "metadata": {
        "id": "39MfQUeryVAU"
      },
      "execution_count": null,
      "outputs": []
    },
    {
      "cell_type": "code",
      "source": [
        "model1 = load_model('/content/drive/MyDrive/AI_COURSE/wk11_AI/model_fashion.h5')"
      ],
      "metadata": {
        "id": "_gtczQ7Uyg6E"
      },
      "execution_count": null,
      "outputs": []
    },
    {
      "cell_type": "markdown",
      "source": [],
      "metadata": {
        "id": "j0xHQVQmDsa9"
      }
    },
    {
      "cell_type": "code",
      "source": [
        "test = X[36].astype('float32')/255.0\n",
        "plt.imshow(test, cmap='gray')\n",
        "plt.show()\n",
        "test = np.expand_dims(test, axis=0)\n",
        "model1.predict(test)"
      ],
      "metadata": {
        "colab": {
          "base_uri": "https://localhost:8080/",
          "height": 502
        },
        "id": "8cm5e4hryk_0",
        "outputId": "d9e40cb5-412e-4f35-96ba-b18c185933b5"
      },
      "execution_count": null,
      "outputs": [
        {
          "output_type": "display_data",
          "data": {
            "text/plain": [
              "<Figure size 640x480 with 1 Axes>"
            ],
            "image/png": "[encoded data removed]"
          },
          "metadata": {}
        },
        {
          "output_type": "stream",
          "name": "stdout",
          "text": [
            "1/1 [==============================] - 1s 790ms/step\n"
          ]
        },
        {
          "output_type": "execute_result",
          "data": {
            "text/plain": [
              "array([[5.8781320e-25, 3.0180525e-20, 1.1898520e-21, 1.5768880e-20,\n",
              "        1.1094829e-21, 2.2871031e-22, 1.1275906e-22, 1.0000000e+00,\n",
              "        7.8495712e-23, 1.4795723e-17]], dtype=float32)"
            ]
          },
          "metadata": {},
          "execution_count": 13
        }
      ]
    },
    {
      "cell_type": "code",
      "source": [
        "#######################################cifar10################################"
      ],
      "metadata": {
        "id": "Xffr3jTfysyj"
      },
      "execution_count": null,
      "outputs": []
    },
    {
      "cell_type": "code",
      "source": [
        "import numpy as np\n",
        "import matplotlib.pyplot as plt\n",
        "from keras.datasets import cifar10\n",
        "from tensorflow.keras.layers import Conv2D, MaxPooling2D, Flatten, Dropout, Dense, Normalization, LeakyReLU\n",
        "from keras.utils import to_categorical\n",
        "from keras import Sequential\n",
        "from keras.optimizers import Adam\n",
        "from keras.models import load_model"
      ],
      "metadata": {
        "id": "0EEgeDnyy4rz"
      },
      "execution_count": null,
      "outputs": []
    },
    {
      "cell_type": "code",
      "source": [
        "(X_train, y_train), (X_test ,y_test) = cifar10.load_data()\n",
        "X=X_test"
      ],
      "metadata": {
        "colab": {
          "base_uri": "https://localhost:8080/"
        },
        "id": "dufzcvG5y-Ek",
        "outputId": "39da9efb-5e2c-4b93-92e7-bf44cbee67aa"
      },
      "execution_count": null,
      "outputs": [
        {
          "output_type": "stream",
          "name": "stdout",
          "text": [
            "Downloading data from https://www.cs.toronto.edu/~kriz/cifar-10-python.tar.gz\n",
            "170498071/170498071 [==============================] - 2s 0us/step\n"
          ]
        }
      ]
    },
    {
      "cell_type": "code",
      "source": [
        "X_train.shape"
      ],
      "metadata": {
        "colab": {
          "base_uri": "https://localhost:8080/"
        },
        "id": "JkbQzx7DzDL0",
        "outputId": "a14e628f-ca4e-45a1-9fc7-00f5b2af5f83"
      },
      "execution_count": null,
      "outputs": [
        {
          "output_type": "execute_result",
          "data": {
            "text/plain": [
              "(50000, 32, 32, 3)"
            ]
          },
          "metadata": {},
          "execution_count": 17
        }
      ]
    },
    {
      "cell_type": "code",
      "source": [
        "plt.imshow(X_train[0], cmap='gray')\n",
        "plt.show()"
      ],
      "metadata": {
        "colab": {
          "base_uri": "https://localhost:8080/",
          "height": 430
        },
        "id": "G0U4TFsLzGSr",
        "outputId": "9465f40d-3643-4d14-9f05-8b4fdf9baaa9"
      },
      "execution_count": null,
      "outputs": [
        {
          "output_type": "display_data",
          "data": {
            "text/plain": [
              "<Figure size 640x480 with 1 Axes>"
            ],
            "image/png": "[encoded data removed]"
          },
          "metadata": {}
        }
      ]
    },
    {
      "cell_type": "code",
      "source": [
        "X_train = X_train.reshape(50000, 32, 32, 3)/255.0\n",
        "X_test = X_test.reshape(10000, 32, 32, 3)/255.0\n",
        "\n",
        "y_train = to_categorical(y_train, 10)\n",
        "y_test = to_categorical(y_test, 10)\n",
        "print(y_test.shape)"
      ],
      "metadata": {
        "colab": {
          "base_uri": "https://localhost:8080/"
        },
        "id": "22lp7ekrzIX6",
        "outputId": "4157deab-785d-41db-9031-519841322634"
      },
      "execution_count": null,
      "outputs": [
        {
          "output_type": "stream",
          "name": "stdout",
          "text": [
            "(10000, 10)\n"
          ]
        }
      ]
    },
    {
      "cell_type": "code",
      "source": [
        "from keras.api._v2.keras import activations\n",
        "model = Sequential()\n",
        "model.add(Conv2D(32, (3,3), strides = (1,1), padding='same', activation='relu', input_shape=(32, 32, 3)))\n",
        "model.add(LeakyReLU(alpha=0.1))\n",
        "model.add(MaxPooling2D((2,2), padding='same'))\n",
        "model.add(Conv2D(64, (3,3), strides = (1,1), padding='same', activation='linear'))\n",
        "model.add(LeakyReLU(alpha=0.1))\n",
        "model.add(MaxPooling2D((2,2), padding='same'))\n",
        "model.add(Flatten())\n",
        "model.add(Dense(512, activation = 'linear'))\n",
        "model.add(LeakyReLU(alpha=0.1))\n",
        "model.add(Dense(10, activation='softmax'))\n",
        "\n",
        "model.summary()"
      ],
      "metadata": {
        "colab": {
          "base_uri": "https://localhost:8080/"
        },
        "id": "P4kyNcE-zJ57",
        "outputId": "10fe3a89-2a58-4ef4-91cb-765aa7c85013"
      },
      "execution_count": null,
      "outputs": [
        {
          "output_type": "stream",
          "name": "stdout",
          "text": [
            "Model: \"sequential_2\"\n",
            "_________________________________________________________________\n",
            " Layer (type)                Output Shape              Param #   \n",
            "=================================================================\n",
            " conv2d_4 (Conv2D)           (None, 32, 32, 32)        896       \n",
            "                                                                 \n",
            " leaky_re_lu_6 (LeakyReLU)   (None, 32, 32, 32)        0         \n",
            "                                                                 \n",
            " max_pooling2d_4 (MaxPooling  (None, 16, 16, 32)       0         \n",
            " 2D)                                                             \n",
            "                                                                 \n",
            " conv2d_5 (Conv2D)           (None, 16, 16, 64)        18496     \n",
            "                                                                 \n",
            " leaky_re_lu_7 (LeakyReLU)   (None, 16, 16, 64)        0         \n",
            "                                                                 \n",
            " max_pooling2d_5 (MaxPooling  (None, 8, 8, 64)         0         \n",
            " 2D)                                                             \n",
            "                                                                 \n",
            " flatten_2 (Flatten)         (None, 4096)              0         \n",
            "                                                                 \n",
            " dense_4 (Dense)             (None, 512)               2097664   \n",
            "                                                                 \n",
            " leaky_re_lu_8 (LeakyReLU)   (None, 512)               0         \n",
            "                                                                 \n",
            " dense_5 (Dense)             (None, 10)                5130      \n",
            "                                                                 \n",
            "=================================================================\n",
            "Total params: 2,122,186\n",
            "Trainable params: 2,122,186\n",
            "Non-trainable params: 0\n",
            "_________________________________________________________________\n"
          ]
        }
      ]
    },
    {
      "cell_type": "code",
      "source": [
        "model.compile(optimizer=Adam(learning_rate=0.001), loss='categorical_crossentropy', metrics=['accuracy'])"
      ],
      "metadata": {
        "id": "a0q4Q_pczemq"
      },
      "execution_count": null,
      "outputs": []
    },
    {
      "cell_type": "code",
      "source": [
        "model.fit(X_train, y_train, validation_data=(X_test, y_test), batch_size=64, epochs=20)"
      ],
      "metadata": {
        "colab": {
          "base_uri": "https://localhost:8080/"
        },
        "id": "y-70Y_J00mdM",
        "outputId": "5e9669f2-81d0-4da9-f42b-011655a0f10b"
      },
      "execution_count": null,
      "outputs": [
        {
          "output_type": "stream",
          "name": "stdout",
          "text": [
            "Epoch 1/20\n",
            "782/782 [==============================] - 137s 175ms/step - loss: 1.9261 - accuracy: 0.3057 - val_loss: 360.8009 - val_accuracy: 0.1309\n",
            "Epoch 2/20\n",
            "782/782 [==============================] - 132s 168ms/step - loss: 1.5786 - accuracy: 0.4364 - val_loss: 338.9309 - val_accuracy: 0.1952\n",
            "Epoch 3/20\n",
            "782/782 [==============================] - 135s 173ms/step - loss: 1.4091 - accuracy: 0.4996 - val_loss: 425.6863 - val_accuracy: 0.1811\n",
            "Epoch 4/20\n",
            "782/782 [==============================] - 132s 169ms/step - loss: 1.2809 - accuracy: 0.5464 - val_loss: 441.2516 - val_accuracy: 0.1778\n",
            "Epoch 5/20\n",
            "782/782 [==============================] - 140s 179ms/step - loss: 1.1937 - accuracy: 0.5785 - val_loss: 455.2217 - val_accuracy: 0.1879\n",
            "Epoch 6/20\n",
            "782/782 [==============================] - 135s 173ms/step - loss: 1.1223 - accuracy: 0.6049 - val_loss: 385.4565 - val_accuracy: 0.1990\n",
            "Epoch 7/20\n",
            "782/782 [==============================] - 132s 169ms/step - loss: 1.0429 - accuracy: 0.6324 - val_loss: 427.5713 - val_accuracy: 0.2041\n",
            "Epoch 8/20\n",
            "782/782 [==============================] - 133s 170ms/step - loss: 0.9808 - accuracy: 0.6569 - val_loss: 618.2394 - val_accuracy: 0.1557\n",
            "Epoch 9/20\n",
            "782/782 [==============================] - 130s 166ms/step - loss: 0.9147 - accuracy: 0.6788 - val_loss: 561.4587 - val_accuracy: 0.1580\n",
            "Epoch 10/20\n",
            "782/782 [==============================] - 133s 170ms/step - loss: 0.8490 - accuracy: 0.7032 - val_loss: 677.8413 - val_accuracy: 0.1454\n",
            "Epoch 11/20\n",
            "782/782 [==============================] - 133s 171ms/step - loss: 0.7816 - accuracy: 0.7272 - val_loss: 564.9304 - val_accuracy: 0.1898\n",
            "Epoch 12/20\n",
            "782/782 [==============================] - 137s 175ms/step - loss: 0.7271 - accuracy: 0.7466 - val_loss: 636.3937 - val_accuracy: 0.1759\n",
            "Epoch 13/20\n",
            "782/782 [==============================] - 133s 170ms/step - loss: 0.6654 - accuracy: 0.7708 - val_loss: 589.1829 - val_accuracy: 0.2117\n",
            "Epoch 14/20\n",
            "782/782 [==============================] - 134s 171ms/step - loss: 0.5984 - accuracy: 0.7929 - val_loss: 761.5296 - val_accuracy: 0.1734\n",
            "Epoch 15/20\n",
            "782/782 [==============================] - 137s 175ms/step - loss: 0.5359 - accuracy: 0.8151 - val_loss: 719.3511 - val_accuracy: 0.1827\n",
            "Epoch 16/20\n",
            "782/782 [==============================] - 133s 170ms/step - loss: 0.4820 - accuracy: 0.8341 - val_loss: 774.5161 - val_accuracy: 0.1882\n",
            "Epoch 17/20\n",
            "782/782 [==============================] - 136s 174ms/step - loss: 0.4271 - accuracy: 0.8545 - val_loss: 724.0839 - val_accuracy: 0.2117\n",
            "Epoch 18/20\n",
            "782/782 [==============================] - 133s 170ms/step - loss: 0.3760 - accuracy: 0.8710 - val_loss: 877.0925 - val_accuracy: 0.2177\n",
            "Epoch 19/20\n",
            "782/782 [==============================] - 137s 175ms/step - loss: 0.3306 - accuracy: 0.8885 - val_loss: 865.2356 - val_accuracy: 0.2236\n",
            "Epoch 20/20\n",
            "782/782 [==============================] - 133s 171ms/step - loss: 0.2874 - accuracy: 0.9039 - val_loss: 909.9374 - val_accuracy: 0.2309\n"
          ]
        },
        {
          "output_type": "execute_result",
          "data": {
            "text/plain": [
              "<keras.callbacks.History at 0x7f4aa7bfe430>"
            ]
          },
          "metadata": {},
          "execution_count": 31
        }
      ]
    },
    {
      "cell_type": "code",
      "source": [
        "model.save('/content/drive/MyDrive/AI_COURSE/wk11_AI/cifar10.h5')"
      ],
      "metadata": {
        "id": "qcA7vcCw0ogk"
      },
      "execution_count": null,
      "outputs": []
    },
    {
      "cell_type": "code",
      "source": [
        "model1 = load_model('/content/drive/MyDrive/AI_COURSE/wk11_AI/cifar10.h5')"
      ],
      "metadata": {
        "id": "th4l0vM7DqLL"
      },
      "execution_count": null,
      "outputs": []
    },
    {
      "cell_type": "code",
      "source": [
        "test = X[36].astype('float32')/255.0\n",
        "plt.imshow(test, cmap='gray')\n",
        "plt.show()\n",
        "test = np.expand_dims(test, axis=0)\n",
        "model1.predict(test)"
      ],
      "metadata": {
        "colab": {
          "base_uri": "https://localhost:8080/",
          "height": 502
        },
        "id": "RJuAg8w6DwY0",
        "outputId": "6c4be72b-e9ef-4c15-a0ea-1abfa2d8bf19"
      },
      "execution_count": null,
      "outputs": [
        {
          "output_type": "display_data",
          "data": {
            "text/plain": [
              "<Figure size 640x480 with 1 Axes>"
            ],
            "image/png": "[encoded data removed]"
          },
          "metadata": {}
        },
        {
          "output_type": "stream",
          "name": "stdout",
          "text": [
            "1/1 [==============================] - 0s 313ms/step\n"
          ]
        },
        {
          "output_type": "execute_result",
          "data": {
            "text/plain": [
              "array([[2.4537269e-03, 0.0000000e+00, 0.0000000e+00, 5.8735764e-19,\n",
              "        0.0000000e+00, 0.0000000e+00, 0.0000000e+00, 9.9754626e-01,\n",
              "        0.0000000e+00, 0.0000000e+00]], dtype=float32)"
            ]
          },
          "metadata": {},
          "execution_count": 34
        }
      ]
    },
    {
      "cell_type": "code",
      "source": [
        "test = X[36].astype('float32')/255.0\n",
        "plt.imshow(test, cmap='gray')\n",
        "plt.show()\n",
        "test = np.expand_dims(test, axis=0)\n",
        "model1.predict(test)"
      ],
      "metadata": {
        "colab": {
          "base_uri": "https://localhost:8080/",
          "height": 502
        },
        "id": "y3nybC_AD1C0",
        "outputId": "9e8dfbb1-bd62-4cd5-8ff7-cc773a573d66"
      },
      "execution_count": null,
      "outputs": [
        {
          "output_type": "display_data",
          "data": {
            "text/plain": [
              "<Figure size 640x480 with 1 Axes>"
            ],
            "image/png": "[encoded data removed]"
          },
          "metadata": {}
        },
        {
          "output_type": "stream",
          "name": "stdout",
          "text": [
            "1/1 [==============================] - 0s 56ms/step\n"
          ]
        },
        {
          "output_type": "execute_result",
          "data": {
            "text/plain": [
              "array([[2.4537269e-03, 0.0000000e+00, 0.0000000e+00, 5.8735764e-19,\n",
              "        0.0000000e+00, 0.0000000e+00, 0.0000000e+00, 9.9754626e-01,\n",
              "        0.0000000e+00, 0.0000000e+00]], dtype=float32)"
            ]
          },
          "metadata": {},
          "execution_count": 35
        }
      ]
    },
    {
      "cell_type": "code",
      "source": [],
      "metadata": {
        "id": "yBX-J7n7D4OF"
      },
      "execution_count": null,
      "outputs": []
    }
  ]
}