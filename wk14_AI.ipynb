{
  "nbformat": 4,
  "nbformat_minor": 0,
  "metadata": {
    "colab": {
      "provenance": [],
      "gpuType": "T4",
      "authorship_tag": "ABX9TyOoDBwmKdSLaw6fC70b6Hgr",
      "include_colab_link": true
    },
    "kernelspec": {
      "name": "python3",
      "display_name": "Python 3"
    },
    "language_info": {
      "name": "python"
    },
    "accelerator": "GPU",
    "gpuClass": "standard"
  },
  "cells": [
    {
      "cell_type": "markdown",
      "metadata": {
        "id": "view-in-github",
        "colab_type": "text"
      },
      "source": [
        "<a href=\"https://colab.research.google.com/github/DangTrungNhut/Artificial_Intelligence_Course/blob/main/wk14_AI.ipynb\" target=\"_parent\"><img src=\"https://colab.research.google.com/assets/colab-badge.svg\" alt=\"Open In Colab\"/></a>"
      ]
    },
    {
      "cell_type": "code",
      "execution_count": null,
      "metadata": {
        "id": "mz_hpqoLr0R-"
      },
      "outputs": [],
      "source": [
        "#####Speech to text#####"
      ]
    },
    {
      "cell_type": "code",
      "source": [
        "pip install SpeechRecognition pydub "
      ],
      "metadata": {
        "colab": {
          "base_uri": "https://localhost:8080/"
        },
        "id": "pHh3r-M5tEVc",
        "outputId": "d5de57e7-7e10-4aac-ec9a-a7240f0c6eb0"
      },
      "execution_count": null,
      "outputs": [
        {
          "output_type": "stream",
          "name": "stdout",
          "text": [
            "Looking in indexes: https://pypi.org/simple, https://us-python.pkg.dev/colab-wheels/public/simple/\n",
            "Collecting SpeechRecognition\n",
            "  Downloading SpeechRecognition-3.10.0-py2.py3-none-any.whl (32.8 MB)\n",
            "\u001b[2K     \u001b[90m━━━━━━━━━━━━━━━━━━━━━━━━━━━━━━━━━━━━━━━━\u001b[0m \u001b[32m32.8/32.8 MB\u001b[0m \u001b[31m29.8 MB/s\u001b[0m eta \u001b[36m0:00:00\u001b[0m\n",
            "\u001b[?25hCollecting pydub\n",
            "  Downloading pydub-0.25.1-py2.py3-none-any.whl (32 kB)\n",
            "Requirement already satisfied: requests>=2.26.0 in /usr/local/lib/python3.10/dist-packages (from SpeechRecognition) (2.27.1)\n",
            "Requirement already satisfied: charset-normalizer~=2.0.0 in /usr/local/lib/python3.10/dist-packages (from requests>=2.26.0->SpeechRecognition) (2.0.12)\n",
            "Requirement already satisfied: idna<4,>=2.5 in /usr/local/lib/python3.10/dist-packages (from requests>=2.26.0->SpeechRecognition) (3.4)\n",
            "Requirement already satisfied: urllib3<1.27,>=1.21.1 in /usr/local/lib/python3.10/dist-packages (from requests>=2.26.0->SpeechRecognition) (1.26.15)\n",
            "Requirement already satisfied: certifi>=2017.4.17 in /usr/local/lib/python3.10/dist-packages (from requests>=2.26.0->SpeechRecognition) (2022.12.7)\n",
            "Installing collected packages: pydub, SpeechRecognition\n",
            "Successfully installed SpeechRecognition-3.10.0 pydub-0.25.1\n"
          ]
        }
      ]
    },
    {
      "cell_type": "code",
      "source": [
        "import speech_recognition as sr"
      ],
      "metadata": {
        "id": "14eVRVBitOiy"
      },
      "execution_count": null,
      "outputs": []
    },
    {
      "cell_type": "code",
      "source": [
        "r = sr.Recognizer()\n",
        "\n",
        "#Kết nối với drive\n",
        "from google.colab import drive\n",
        "drive.mount('/content/drive')"
      ],
      "metadata": {
        "colab": {
          "base_uri": "https://localhost:8080/"
        },
        "id": "AM1fohsotpjY",
        "outputId": "9d2a6ad5-d5e3-4dee-9f80-557d6048f0e6"
      },
      "execution_count": null,
      "outputs": [
        {
          "output_type": "stream",
          "name": "stdout",
          "text": [
            "Mounted at /content/drive\n"
          ]
        }
      ]
    },
    {
      "cell_type": "code",
      "source": [
        "#test = sr.AudioFile('/content/drive/MyDrive/AI_COURSE/wk14/male.wav')\n",
        "\n",
        "testa = sr.AudioFile('/content/drive/MyDrive/AI_COURSE/wk14/min.wav')\n",
        "\n",
        "#with test as source:\n",
        "#  data = r.record(source)\n",
        "#  text = r.recognize_google(data)\n",
        "#  print(text)\n",
        "\n",
        "with testa as source:\n",
        "  dataa = r.record(source)\n",
        "  texta = r.recognize_google(dataa, language = 'en')\n",
        "  print(texta)"
      ],
      "metadata": {
        "colab": {
          "base_uri": "https://localhost:8080/"
        },
        "id": "rBp6gHssun4_",
        "outputId": "f937b271-f2c2-44c3-a1fa-02fe7b5c6eb0"
      },
      "execution_count": null,
      "outputs": [
        {
          "output_type": "stream",
          "name": "stdout",
          "text": [
            "we can always improve technology with humanitarian care we can enhance the security of network by introducing Quantum cryptography we can put restrictions on AI to prevent will galavant teleportation or maybe it's too risky to transport human\n"
          ]
        }
      ]
    },
    {
      "cell_type": "code",
      "source": [
        "testb = sr.AudioFile('/content/drive/MyDrive/AI_COURSE/wk14/vtvnews.wav')\n",
        "with testb as source:\n",
        "  datab = r.record(source)\n",
        "  textb = r.recognize_google(datab, language = 'vi')\n",
        "  print(textb)"
      ],
      "metadata": {
        "colab": {
          "base_uri": "https://localhost:8080/"
        },
        "id": "CQT6S4ZEvba_",
        "outputId": "d0f9634f-947a-414b-ee66-263295ace89a"
      },
      "execution_count": null,
      "outputs": [
        {
          "output_type": "stream",
          "name": "stdout",
          "text": [
            "thiết lập các kênh tại thành phố vô địch Euro của Brazil có cách này nó cứ bị thấy là lập đầy rác thải sinh hoạt do con người thải ra không một sinh vật nào có thể sống sót ngoài hoạch cá sấu cay mà tự nhiên có một điều đáng buồn là nhiều người thậm chí còn muốn săn bắt những con cá sấu này để lấy thịt các nhà sinh vật học cảnh báo bất cứ ai ăn thịt cá sấu trai mang tại giảm cân ô nhiễm này nếu có nguy cơ mắc bệnh vì độc tố do vi khuẩn lam tạo ra không được loại bỏ khi chiên luộc hoặc bất kỳ cách xử lý thịt nào cá sấu Common là loài động vật có thân hình to lớn đầu phẳng với mũi hơi dài và đuôi dài chạy đà dọc theo vào cơ thể có thể được tìm thấy khắp Trung và Nam Mỹ\n"
          ]
        }
      ]
    },
    {
      "cell_type": "code",
      "source": [
        "testc = sr.AudioFile('/content/1-3-TEST-8.wav')\n",
        "with testc as source:\n",
        "  datac = r.record(source)\n",
        "  textc = r.recognize_google(datac)\n",
        "  print(textc)"
      ],
      "metadata": {
        "id": "m7N8iIBrxTXg"
      },
      "execution_count": null,
      "outputs": []
    },
    {
      "cell_type": "code",
      "source": [
        "test4 = sr.AudioFile('/content/drive/MyDrive/AI_COURSE/wk14/chaulenba.wav')\n",
        "with test4 as source:\n",
        "  data1 = r.record(source, offset = 18, duration = 150)\n",
        "  text1 = r.recognize_google(data1, language = 'vi')\n",
        "  print(text1)"
      ],
      "metadata": {
        "id": "VKoSVT-qxY1p"
      },
      "execution_count": null,
      "outputs": []
    },
    {
      "cell_type": "code",
      "source": [
        "test5 = sr.AudioFile('/content/drive/MyDrive/AI_COURSE/wk14/korea.wav')\n",
        "with test5 as source:\n",
        "  data2 = r.record(source, offset = 30, duration = 175)\n",
        "  text2 = r.recognize_google(data2, language = 'ko')\n",
        "  print(text2)"
      ],
      "metadata": {
        "id": "_laYrEXKxnFq"
      },
      "execution_count": null,
      "outputs": []
    },
    {
      "cell_type": "code",
      "source": [
        "#Text to speech"
      ],
      "metadata": {
        "id": "RCKxQdir33L8"
      },
      "execution_count": null,
      "outputs": []
    },
    {
      "cell_type": "code",
      "source": [
        "pip install gTTS"
      ],
      "metadata": {
        "colab": {
          "base_uri": "https://localhost:8080/"
        },
        "id": "riTfHTBr8I9v",
        "outputId": "53fe4781-db36-486f-9aab-1e25fe56599c"
      },
      "execution_count": null,
      "outputs": [
        {
          "output_type": "stream",
          "name": "stdout",
          "text": [
            "Looking in indexes: https://pypi.org/simple, https://us-python.pkg.dev/colab-wheels/public/simple/\n",
            "Collecting gTTS\n",
            "  Downloading gTTS-2.3.2-py3-none-any.whl (28 kB)\n",
            "Requirement already satisfied: click<8.2,>=7.1 in /usr/local/lib/python3.10/dist-packages (from gTTS) (8.1.3)\n",
            "Requirement already satisfied: requests<3,>=2.27 in /usr/local/lib/python3.10/dist-packages (from gTTS) (2.27.1)\n",
            "Requirement already satisfied: idna<4,>=2.5 in /usr/local/lib/python3.10/dist-packages (from requests<3,>=2.27->gTTS) (3.4)\n",
            "Requirement already satisfied: urllib3<1.27,>=1.21.1 in /usr/local/lib/python3.10/dist-packages (from requests<3,>=2.27->gTTS) (1.26.15)\n",
            "Requirement already satisfied: certifi>=2017.4.17 in /usr/local/lib/python3.10/dist-packages (from requests<3,>=2.27->gTTS) (2022.12.7)\n",
            "Requirement already satisfied: charset-normalizer~=2.0.0 in /usr/local/lib/python3.10/dist-packages (from requests<3,>=2.27->gTTS) (2.0.12)\n",
            "Installing collected packages: gTTS\n",
            "Successfully installed gTTS-2.3.2\n"
          ]
        }
      ]
    },
    {
      "cell_type": "code",
      "source": [
        "from gtts import gTTS\n",
        "import os"
      ],
      "metadata": {
        "id": "aAfReuwD8Sh3"
      },
      "execution_count": null,
      "outputs": []
    },
    {
      "cell_type": "code",
      "source": [
        "A = \"\"\"thiết lập các kênh tại thành phố vô địch Euro của Brazil \n",
        " có cách này nó cứ bị thấy là lập đầy rác thải sinh hoạt do con người thải ra không \n",
        "  một sinh vật nào có thể sống sót ngoài hoạch cá sấu cay mà tự nhiên có một điều đáng buồn \n",
        "   là nhiều người thậm chí còn muốn săn bắt những con cá sấu này để lấy thịt các nhà sinh vật học \n",
        "    cảnh báo bất cứ ai ăn thịt cá sấu trai mang tại giảm cân ô nhiễm này nếu có nguy cơ mắc bệnh vì độc tố \n",
        "     do vi khuẩn lam tạo ra không được loại bỏ khi chiên luộc hoặc bất kỳ cách xử lý thịt nào cá sấu Common là loài \n",
        "      động vật có thân hình to lớn đầu phẳng với mũi hơi dài và đuôi dài chạy đà dọc theo vào cơ thể có thể được tìm thấy \n",
        "       khắp Trung và Nam Mỹ\"\"\""
      ],
      "metadata": {
        "id": "RpghYszD8ZQd"
      },
      "execution_count": null,
      "outputs": []
    },
    {
      "cell_type": "code",
      "source": [
        "speak = gTTS(text = A, lang = 'vi', slow = False)\n",
        "speak.save(\"/content/drive/MyDrive/AI_COURSE/wk14/he1.mp3\")\n",
        "\n",
        "#playsound('___________mp3')\n",
        "#os.remove('____________mp3')"
      ],
      "metadata": {
        "id": "aTWdAip-86TM"
      },
      "execution_count": null,
      "outputs": []
    },
    {
      "cell_type": "code",
      "source": [
        "A1 = \"\"\"look at the picture marks number one in your test book hey \n",
        "he's tying his shoe \n",
        "be he's cutting the grass \n",
        "see he's reading a magazine \n",
        "D he's walking around the fountain \n",
        "number to look at the picture Mart number two in your test book \n",
        "hey there installing a railing \n",
        "be there sweeping the steps \n",
        "see they looking out a window \n",
        "D they going down some stairs \n",
        "go on to the next page number three look at the picture marked number 3 in your test book book \n",
        "A she has opened a refrigerator in a restaurant\"\"\"\n",
        "speak = gTTS(text = A1, lang = 'en', slow = False)\n",
        "speak.save(\"/content/drive/MyDrive/AI_COURSE/wk14/he2.mp3\")"
      ],
      "metadata": {
        "id": "g0CoxcIX9b2M"
      },
      "execution_count": null,
      "outputs": []
    },
    {
      "cell_type": "code",
      "source": [
        "pip install googletrans==3.1.0a0"
      ],
      "metadata": {
        "colab": {
          "base_uri": "https://localhost:8080/",
          "height": 993
        },
        "id": "WZNM-drs-YSE",
        "outputId": "1c15cfa9-e822-4981-dad0-fc33328dac9e"
      },
      "execution_count": null,
      "outputs": [
        {
          "output_type": "stream",
          "name": "stdout",
          "text": [
            "Looking in indexes: https://pypi.org/simple, https://us-python.pkg.dev/colab-wheels/public/simple/\n",
            "Collecting googletrans==3.1.0a0\n",
            "  Downloading googletrans-3.1.0a0.tar.gz (19 kB)\n",
            "  Preparing metadata (setup.py) ... \u001b[?25l\u001b[?25hdone\n",
            "Collecting httpx==0.13.3\n",
            "  Downloading httpx-0.13.3-py3-none-any.whl (55 kB)\n",
            "\u001b[2K     \u001b[90m━━━━━━━━━━━━━━━━━━━━━━━━━━━━━━━━━━━━━━━━\u001b[0m \u001b[32m55.1/55.1 kB\u001b[0m \u001b[31m2.6 MB/s\u001b[0m eta \u001b[36m0:00:00\u001b[0m\n",
            "\u001b[?25hCollecting httpcore==0.9.*\n",
            "  Downloading httpcore-0.9.1-py3-none-any.whl (42 kB)\n",
            "\u001b[2K     \u001b[90m━━━━━━━━━━━━━━━━━━━━━━━━━━━━━━━━━━━━━━━━\u001b[0m \u001b[32m42.6/42.6 kB\u001b[0m \u001b[31m5.1 MB/s\u001b[0m eta \u001b[36m0:00:00\u001b[0m\n",
            "\u001b[?25hCollecting rfc3986<2,>=1.3\n",
            "  Downloading rfc3986-1.5.0-py2.py3-none-any.whl (31 kB)\n",
            "Collecting chardet==3.*\n",
            "  Downloading chardet-3.0.4-py2.py3-none-any.whl (133 kB)\n",
            "\u001b[2K     \u001b[90m━━━━━━━━━━━━━━━━━━━━━━━━━━━━━━━━━━━━━━━\u001b[0m \u001b[32m133.4/133.4 kB\u001b[0m \u001b[31m7.2 MB/s\u001b[0m eta \u001b[36m0:00:00\u001b[0m\n",
            "\u001b[?25hCollecting hstspreload\n",
            "  Downloading hstspreload-2023.1.1-py3-none-any.whl (1.5 MB)\n",
            "\u001b[2K     \u001b[90m━━━━━━━━━━━━━━━━━━━━━━━━━━━━━━━━━━━━━━━━\u001b[0m \u001b[32m1.5/1.5 MB\u001b[0m \u001b[31m37.6 MB/s\u001b[0m eta \u001b[36m0:00:00\u001b[0m\n",
            "\u001b[?25hCollecting idna==2.*\n",
            "  Downloading idna-2.10-py2.py3-none-any.whl (58 kB)\n",
            "\u001b[2K     \u001b[90m━━━━━━━━━━━━━━━━━━━━━━━━━━━━━━━━━━━━━━━━\u001b[0m \u001b[32m58.8/58.8 kB\u001b[0m \u001b[31m7.3 MB/s\u001b[0m eta \u001b[36m0:00:00\u001b[0m\n",
            "\u001b[?25hRequirement already satisfied: certifi in /usr/local/lib/python3.10/dist-packages (from httpx==0.13.3->googletrans==3.1.0a0) (2022.12.7)\n",
            "Requirement already satisfied: sniffio in /usr/local/lib/python3.10/dist-packages (from httpx==0.13.3->googletrans==3.1.0a0) (1.3.0)\n",
            "Collecting h2==3.*\n",
            "  Downloading h2-3.2.0-py2.py3-none-any.whl (65 kB)\n",
            "\u001b[2K     \u001b[90m━━━━━━━━━━━━━━━━━━━━━━━━━━━━━━━━━━━━━━━━\u001b[0m \u001b[32m65.0/65.0 kB\u001b[0m \u001b[31m7.8 MB/s\u001b[0m eta \u001b[36m0:00:00\u001b[0m\n",
            "\u001b[?25hCollecting h11<0.10,>=0.8\n",
            "  Downloading h11-0.9.0-py2.py3-none-any.whl (53 kB)\n",
            "\u001b[2K     \u001b[90m━━━━━━━━━━━━━━━━━━━━━━━━━━━━━━━━━━━━━━━━\u001b[0m \u001b[32m53.6/53.6 kB\u001b[0m \u001b[31m6.8 MB/s\u001b[0m eta \u001b[36m0:00:00\u001b[0m\n",
            "\u001b[?25hCollecting hpack<4,>=3.0\n",
            "  Downloading hpack-3.0.0-py2.py3-none-any.whl (38 kB)\n",
            "Collecting hyperframe<6,>=5.2.0\n",
            "  Downloading hyperframe-5.2.0-py2.py3-none-any.whl (12 kB)\n",
            "Building wheels for collected packages: googletrans\n",
            "  Building wheel for googletrans (setup.py) ... \u001b[?25l\u001b[?25hdone\n",
            "  Created wheel for googletrans: filename=googletrans-3.1.0a0-py3-none-any.whl size=16368 sha256=d6db7823d3bfd1afc1109c3d165feb0fdbc1125f3065ca73ad25c3c73964f3ed\n",
            "  Stored in directory: /root/.cache/pip/wheels/50/5d/3c/8477d0af4ca2b8b1308812c09f1930863caeebc762fe265a95\n",
            "Successfully built googletrans\n",
            "Installing collected packages: rfc3986, hyperframe, hpack, h11, chardet, idna, hstspreload, h2, httpcore, httpx, googletrans\n",
            "  Attempting uninstall: chardet\n",
            "    Found existing installation: chardet 4.0.0\n",
            "    Uninstalling chardet-4.0.0:\n",
            "      Successfully uninstalled chardet-4.0.0\n",
            "  Attempting uninstall: idna\n",
            "    Found existing installation: idna 3.4\n",
            "    Uninstalling idna-3.4:\n",
            "      Successfully uninstalled idna-3.4\n",
            "Successfully installed chardet-3.0.4 googletrans-3.1.0a0 h11-0.9.0 h2-3.2.0 hpack-3.0.0 hstspreload-2023.1.1 httpcore-0.9.1 httpx-0.13.3 hyperframe-5.2.0 idna-2.10 rfc3986-1.5.0\n"
          ]
        },
        {
          "output_type": "display_data",
          "data": {
            "application/vnd.colab-display-data+json": {
              "pip_warning": {
                "packages": [
                  "chardet",
                  "idna"
                ]
              }
            }
          },
          "metadata": {}
        }
      ]
    },
    {
      "cell_type": "code",
      "source": [
        "from googletrans import Translator\n",
        "translator = Translator()\n",
        "translation = translator.translate(A1, dest = 'vi')\n",
        "print(translation.text)"
      ],
      "metadata": {
        "colab": {
          "base_uri": "https://localhost:8080/"
        },
        "id": "QZESZ5qQ_22X",
        "outputId": "2bbfbd3a-8248-4f80-bd83-27ebf69c2571"
      },
      "execution_count": null,
      "outputs": [
        {
          "output_type": "stream",
          "name": "stdout",
          "text": [
            "nhìn vào hình ảnh điểm số một trong cuốn sách kiểm tra của bạn này\n",
            "anh ấy đang buộc dây giày\n",
            "anh ấy đang cắt cỏ\n",
            "thấy anh ấy đang đọc tạp chí\n",
            "D anh ấy đang đi dạo quanh đài phun nước\n",
            "số để nhìn vào bức tranh Mart số hai trong tập kiểm tra của bạn\n",
            "này, lắp đặt một lan can\n",
            "ở đó quét các bước\n",
            "thấy họ nhìn ra ngoài cửa sổ\n",
            "D họ đi xuống cầu thang\n",
            "chuyển sang trang tiếp theo số ba nhìn vào bức tranh được đánh dấu số 3 trong cuốn sách kiểm tra của bạn\n",
            "A cô ấy đã mở tủ lạnh trong một nhà hàng\n"
          ]
        }
      ]
    },
    {
      "cell_type": "code",
      "source": [
        "B = \"\"\"I recently purchased a product from your company, but unfortunately it arrived damaged. I would like to request a refund or a replacement for the damaged item. I have attached a photo of the damage for your reference.\"\"\""
      ],
      "metadata": {
        "id": "ULmhCw3nAlVz"
      },
      "execution_count": null,
      "outputs": []
    },
    {
      "cell_type": "code",
      "source": [
        "from googletrans import Translator\n",
        "translator = Translator()\n",
        "translation = translator.translate(B, dest = 'vi')\n",
        "print(translation.text)"
      ],
      "metadata": {
        "colab": {
          "base_uri": "https://localhost:8080/"
        },
        "id": "uek22l9WAoXx",
        "outputId": "8b516057-c61b-4423-f1b7-db124860657e"
      },
      "execution_count": null,
      "outputs": [
        {
          "output_type": "stream",
          "name": "stdout",
          "text": [
            "Gần đây tôi đã mua một sản phẩm từ công ty của bạn, nhưng tiếc là nó đã bị hỏng. Tôi muốn yêu cầu hoàn lại tiền hoặc thay thế cho mặt hàng bị hư hỏng. Tôi đã đính kèm một bức ảnh về thiệt hại để bạn tham khảo.\n"
          ]
        }
      ]
    },
    {
      "cell_type": "code",
      "source": [
        "C = \"\"\"I would appreciate it if you could let me know how we can proceed with resolving this issue. Thank you for your attention to this matter.\"\"\""
      ],
      "metadata": {
        "id": "3Z275IWiA4M8"
      },
      "execution_count": null,
      "outputs": []
    },
    {
      "cell_type": "code",
      "source": [
        "from googletrans import Translator\n",
        "translator = Translator()\n",
        "translation = translator.translate(C, dest = 'vi')\n",
        "print(translation.text)"
      ],
      "metadata": {
        "colab": {
          "base_uri": "https://localhost:8080/"
        },
        "id": "eOodVUd1D7W9",
        "outputId": "1d408025-fe37-4b3a-b635-f334a11f5557"
      },
      "execution_count": null,
      "outputs": [
        {
          "output_type": "stream",
          "name": "stdout",
          "text": [
            "Tôi sẽ đánh giá cao nếu bạn có thể cho tôi biết cách chúng tôi có thể tiến hành giải quyết vấn đề này. Cảm ơn bạn đã quan tâm đến vấn đề này.\n"
          ]
        }
      ]
    },
    {
      "cell_type": "code",
      "source": [
        "A1 = \"\"\"CAN'T LET YOU GO!\n",
        "Only you know how I feel\n",
        "Only you know what I miss\n",
        "Can you see you're just what I need?\n",
        "After all that we've been through\n",
        "After all I've done for you\n",
        "You should know my love is for real\"\"\"\n",
        "\n",
        "A2 = \"\"\"Am I asking for too much?\n",
        "Am I lwaiting for too long?\n",
        "All I need is your tender touch\n",
        "Don't you know I'm on my knees\n",
        "Don't you know I'm begging please\n",
        "Won't you take a look at me now?\"\"\"\n",
        "\n",
        "A3 = \"\"\"* No matter how hard I try\n",
        "I can't get you off my mind\n",
        "I just don't know what to do to have you back here again\n",
        "I can't let go, can't let you go\n",
        "I'm hurting don't you know\n",
        "All my love goes to show\n",
        "I can't go on without you\"\"\""
      ],
      "metadata": {
        "id": "gSbS2XR8D9AX"
      },
      "execution_count": null,
      "outputs": []
    },
    {
      "cell_type": "code",
      "source": [
        "from googletrans import Translator\n",
        "translator = Translator()\n",
        "translation1 = translator.translate(A1, dest = 'vi')\n",
        "print(translation1.text)"
      ],
      "metadata": {
        "colab": {
          "base_uri": "https://localhost:8080/"
        },
        "id": "Jb21prKREPfg",
        "outputId": "10f9e414-6c96-4e68-b416-7f649258ddba"
      },
      "execution_count": null,
      "outputs": [
        {
          "output_type": "stream",
          "name": "stdout",
          "text": [
            "KHÔNG THỂ ĐỂ ANH ĐI!\n",
            "Chỉ có bạn biết làm thế nào tôi cảm thấy\n",
            "Chỉ có bạn biết những gì tôi bỏ lỡ\n",
            "Bạn có thể thấy bạn chỉ là những gì tôi cần?\n",
            "Sau tất cả những gì chúng ta đã trải qua\n",
            "Sau tất cả những gì tôi đã làm cho bạn\n",
            "Em nên biết tình yêu của anh là thật\n"
          ]
        }
      ]
    },
    {
      "cell_type": "code",
      "source": [
        "from googletrans import Translator\n",
        "translator = Translator()\n",
        "translation2 = translator.translate(A2, dest = 'vi')\n",
        "print(translation.text)"
      ],
      "metadata": {
        "colab": {
          "base_uri": "https://localhost:8080/"
        },
        "id": "t50fwxx8ESPW",
        "outputId": "6265c82b-8534-48ff-c823-5c3261b94f3e"
      },
      "execution_count": null,
      "outputs": [
        {
          "output_type": "stream",
          "name": "stdout",
          "text": [
            "* Dù tôi có cố gắng thế nào\n",
            "Tôi không thể có được bạn ra khỏi tâm trí của tôi\n",
            "Tôi chỉ không biết phải làm gì để có bạn trở lại đây một lần nữa\n",
            "Anh không thể buông tay, không thể để em ra đi\n",
            "tôi đang đau em có biết không\n",
            "Tất cả tình yêu của tôi đi để hiển thị\n",
            "Tôi không thể tiếp tục mà không có bạn\n"
          ]
        }
      ]
    },
    {
      "cell_type": "code",
      "source": [
        "from googletrans import Translator\n",
        "translator = Translator()\n",
        "translation3 = translator.translate(A3, dest = 'vi')\n",
        "print(translation3.text)"
      ],
      "metadata": {
        "colab": {
          "base_uri": "https://localhost:8080/"
        },
        "id": "z4Bbak7DEsKd",
        "outputId": "0a759119-aa0b-42c3-c61d-38b68181a6c8"
      },
      "execution_count": null,
      "outputs": [
        {
          "output_type": "stream",
          "name": "stdout",
          "text": [
            "* Dù tôi có cố gắng thế nào\n",
            "Tôi không thể có được bạn ra khỏi tâm trí của tôi\n",
            "Tôi chỉ không biết phải làm gì để có bạn trở lại đây một lần nữa\n",
            "Anh không thể buông tay, không thể để em ra đi\n",
            "tôi đang đau em có biết không\n",
            "Tất cả tình yêu của tôi đi để hiển thị\n",
            "Tôi không thể tiếp tục mà không có bạn\n"
          ]
        }
      ]
    },
    {
      "cell_type": "code",
      "source": [
        "###################################################################################################"
      ],
      "metadata": {
        "id": "u2lAew0MEx0R"
      },
      "execution_count": null,
      "outputs": []
    },
    {
      "cell_type": "code",
      "source": [
        "pip install transformers"
      ],
      "metadata": {
        "colab": {
          "base_uri": "https://localhost:8080/"
        },
        "id": "ro5_gXwZHY0D",
        "outputId": "473453e9-a550-481a-d185-1a811491daff"
      },
      "execution_count": null,
      "outputs": [
        {
          "output_type": "stream",
          "name": "stdout",
          "text": [
            "Looking in indexes: https://pypi.org/simple, https://us-python.pkg.dev/colab-wheels/public/simple/\n",
            "Collecting transformers\n",
            "  Downloading transformers-4.28.1-py3-none-any.whl (7.0 MB)\n",
            "\u001b[2K     \u001b[90m━━━━━━━━━━━━━━━━━━━━━━━━━━━━━━━━━━━━━━━━\u001b[0m \u001b[32m7.0/7.0 MB\u001b[0m \u001b[31m55.3 MB/s\u001b[0m eta \u001b[36m0:00:00\u001b[0m\n",
            "\u001b[?25hCollecting tokenizers!=0.11.3,<0.14,>=0.11.1\n",
            "  Downloading tokenizers-0.13.3-cp310-cp310-manylinux_2_17_x86_64.manylinux2014_x86_64.whl (7.8 MB)\n",
            "\u001b[2K     \u001b[90m━━━━━━━━━━━━━━━━━━━━━━━━━━━━━━━━━━━━━━━━\u001b[0m \u001b[32m7.8/7.8 MB\u001b[0m \u001b[31m110.6 MB/s\u001b[0m eta \u001b[36m0:00:00\u001b[0m\n",
            "\u001b[?25hRequirement already satisfied: packaging>=20.0 in /usr/local/lib/python3.10/dist-packages (from transformers) (23.1)\n",
            "Requirement already satisfied: tqdm>=4.27 in /usr/local/lib/python3.10/dist-packages (from transformers) (4.65.0)\n",
            "Requirement already satisfied: pyyaml>=5.1 in /usr/local/lib/python3.10/dist-packages (from transformers) (6.0)\n",
            "Requirement already satisfied: filelock in /usr/local/lib/python3.10/dist-packages (from transformers) (3.12.0)\n",
            "Requirement already satisfied: regex!=2019.12.17 in /usr/local/lib/python3.10/dist-packages (from transformers) (2022.10.31)\n",
            "Collecting huggingface-hub<1.0,>=0.11.0\n",
            "  Downloading huggingface_hub-0.14.1-py3-none-any.whl (224 kB)\n",
            "\u001b[2K     \u001b[90m━━━━━━━━━━━━━━━━━━━━━━━━━━━━━━━━━━━━━━\u001b[0m \u001b[32m224.5/224.5 kB\u001b[0m \u001b[31m26.0 MB/s\u001b[0m eta \u001b[36m0:00:00\u001b[0m\n",
            "\u001b[?25hRequirement already satisfied: numpy>=1.17 in /usr/local/lib/python3.10/dist-packages (from transformers) (1.22.4)\n",
            "Requirement already satisfied: requests in /usr/local/lib/python3.10/dist-packages (from transformers) (2.27.1)\n",
            "Requirement already satisfied: fsspec in /usr/local/lib/python3.10/dist-packages (from huggingface-hub<1.0,>=0.11.0->transformers) (2023.4.0)\n",
            "Requirement already satisfied: typing-extensions>=3.7.4.3 in /usr/local/lib/python3.10/dist-packages (from huggingface-hub<1.0,>=0.11.0->transformers) (4.5.0)\n",
            "Requirement already satisfied: idna<4,>=2.5 in /usr/local/lib/python3.10/dist-packages (from requests->transformers) (2.10)\n",
            "Requirement already satisfied: certifi>=2017.4.17 in /usr/local/lib/python3.10/dist-packages (from requests->transformers) (2022.12.7)\n",
            "Requirement already satisfied: charset-normalizer~=2.0.0 in /usr/local/lib/python3.10/dist-packages (from requests->transformers) (2.0.12)\n",
            "Requirement already satisfied: urllib3<1.27,>=1.21.1 in /usr/local/lib/python3.10/dist-packages (from requests->transformers) (1.26.15)\n",
            "Installing collected packages: tokenizers, huggingface-hub, transformers\n",
            "Successfully installed huggingface-hub-0.14.1 tokenizers-0.13.3 transformers-4.28.1\n"
          ]
        }
      ]
    },
    {
      "cell_type": "code",
      "source": [
        "from transformers import pipeline, set_seed"
      ],
      "metadata": {
        "id": "6a4f7PlkIAdl"
      },
      "execution_count": null,
      "outputs": []
    },
    {
      "cell_type": "code",
      "source": [
        "generator = pipeline('text-generation', model = 'gpt2')\n",
        "set_seed(42)\n",
        "generator('Please, talk about Quang Trung',\n",
        "          max_length = 100, num_return_sequences = 5)"
      ],
      "metadata": {
        "colab": {
          "base_uri": "https://localhost:8080/"
        },
        "id": "LrJUiiBUIR5_",
        "outputId": "9456e94b-2074-4665-aa64-d08d53efe0c4"
      },
      "execution_count": null,
      "outputs": [
        {
          "output_type": "stream",
          "name": "stderr",
          "text": [
            "Setting `pad_token_id` to `eos_token_id`:50256 for open-end generation.\n"
          ]
        },
        {
          "output_type": "execute_result",
          "data": {
            "text/plain": [
              "[{'generated_text': 'Please, talk about Quang Trung.\\n\\n4. A short-story about the character of Professor Chiang Ting, a former CIA Special Agent and whistleblower who was sentenced to seven years in prison for leaking classified information.\\n\\nThere is enough to suggest that while Ting was indeed not necessarily a whistleblower, this does not mean that he had a particular bias or bias towards the United States by playing both sides of the political spectrum.\\n\\n5. We must remember that both US'},\n",
              " {'generated_text': 'Please, talk about Quang Trung\\'s recent decision to cancel a long-promoted performance by the National Theatre of India (PNI): \"We have seen over 600 live tickets sold, and they are getting tickets of around 4 million, which is good,\" the executive said.\\n\\nThe new venue is due to open in October, and has attracted the attention of the theatre\\'s board. \"The main concern has been security and safety by ticket holders. The entire concert experience will be'},\n",
              " {'generated_text': 'Please, talk about Quang Trung, then get into it, there\\'s nothing left to talk about here!\\n\\n\"This was my secret… this isn\\'t my secret… this isn\\'t my secret!\" Li Jingping suddenly laughed, \"Now it\\'s your turn to tell me everything! How many times do you think there\\'s a story that doesn\\'t mention me, I don\\'t know what the fuck your name is.\"\\n\\nJi Xun\\'s attention was completely focused on Li'},\n",
              " {'generated_text': \"Please, talk about Quang Trung, one of the heroes of the anime, which, frankly, she isn't very good at:\\n\\n\\nSo, how did she become such a fine actress in the first place and how did she change so much from what she started?\\n\\n\\nAnd which actress had the most to lose and how did it change in this respect?\\n\\n\\nI know I can say that, well, Quang, I've had enough to lose to my beloved Astr\"},\n",
              " {'generated_text': \"Please, talk about Quang Trung. I don't know anything about any of the games on it, but I would like to thank you for the chance to play to many of our newest and greatest games. What would you like to know?\"}]"
            ]
          },
          "metadata": {},
          "execution_count": 64
        }
      ]
    },
    {
      "cell_type": "code",
      "source": [
        "generator[0]['generated_text']"
      ],
      "metadata": {
        "colab": {
          "base_uri": "https://localhost:8080/",
          "height": 170
        },
        "id": "zOHQqYmNI5wc",
        "outputId": "5af3cca4-f7ae-4401-d8c2-332521995853"
      },
      "execution_count": null,
      "outputs": [
        {
          "output_type": "error",
          "ename": "TypeError",
          "evalue": "ignored",
          "traceback": [
            "\u001b[0;31m---------------------------------------------------------------------------\u001b[0m",
            "\u001b[0;31mTypeError\u001b[0m                                 Traceback (most recent call last)",
            "\u001b[0;32m<ipython-input-68-9a5c2d975204>\u001b[0m in \u001b[0;36m<cell line: 1>\u001b[0;34m()\u001b[0m\n\u001b[0;32m----> 1\u001b[0;31m \u001b[0mgenerator\u001b[0m\u001b[0;34m[\u001b[0m\u001b[0;36m0\u001b[0m\u001b[0;34m]\u001b[0m\u001b[0;34m[\u001b[0m\u001b[0;34m'generated_text'\u001b[0m\u001b[0;34m]\u001b[0m\u001b[0;34m\u001b[0m\u001b[0;34m\u001b[0m\u001b[0m\n\u001b[0m",
            "\u001b[0;31mTypeError\u001b[0m: 'TextGenerationPipeline' object is not subscriptable"
          ]
        }
      ]
    },
    {
      "cell_type": "code",
      "source": [],
      "metadata": {
        "id": "DVWSc6WmL8V2"
      },
      "execution_count": null,
      "outputs": []
    }
  ]
}