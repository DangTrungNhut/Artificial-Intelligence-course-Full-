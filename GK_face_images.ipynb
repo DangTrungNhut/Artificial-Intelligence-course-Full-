{
  "nbformat": 4,
  "nbformat_minor": 0,
  "metadata": {
    "colab": {
      "provenance": [],
      "include_colab_link": true
    },
    "kernelspec": {
      "name": "python3",
      "display_name": "Python 3"
    },
    "language_info": {
      "name": "python"
    },
    "accelerator": "GPU",
    "gpuClass": "standard"
  },
  "cells": [
    {
      "cell_type": "markdown",
      "metadata": {
        "id": "view-in-github",
        "colab_type": "text"
      },
      "source": [
        "<a href=\"https://colab.research.google.com/github/DangTrungNhut/Artificial_Intelligence_Course/blob/main/GK_face_images.ipynb\" target=\"_parent\"><img src=\"https://colab.research.google.com/assets/colab-badge.svg\" alt=\"Open In Colab\"/></a>"
      ]
    },
    {
      "cell_type": "code",
      "execution_count": null,
      "metadata": {
        "id": "P_I79iWJx0YJ",
        "colab": {
          "base_uri": "https://localhost:8080/"
        },
        "outputId": "6607e3ba-779e-4ae9-e7fb-7be2e9152d4b"
      },
      "outputs": [
        {
          "output_type": "stream",
          "name": "stdout",
          "text": [
            "Mounted at /content/drive\n"
          ]
        }
      ],
      "source": [
        "#import libraries\n",
        "import tensorflow as tf\n",
        "from tensorflow.keras.preprocessing.image import ImageDataGenerator, load_img, img_to_array\n",
        "from tensorflow.keras.models import Sequential\n",
        "from tensorflow.keras.layers import Conv2D, MaxPooling2D, Flatten, Dense\n",
        "import numpy as np\n",
        "import matplotlib.pyplot as plt\n",
        "\n",
        "#Kết nối với drive\n",
        "from google.colab import drive\n",
        "drive.mount('/content/drive')"
      ]
    },
    {
      "cell_type": "code",
      "source": [
        "#Giai nen tập dữ liệu rar\n",
        "!apt-get install -y unrar\n",
        "\n",
        "rar_file_path = \"/content/drive/MyDrive/AI/data/face/Data_Face.rar\" \n",
        "extract_path = \"/content/drive/MyDrive/AI/data/face\" \n",
        "!unrar x '{rar_file_path}' '{extract_path}'"
      ],
      "metadata": {
        "id": "LOYs4YoXy71c"
      },
      "execution_count": null,
      "outputs": []
    },
    {
      "cell_type": "code",
      "source": [
        "# Khai báo các thông số cho việc train mô hình\n",
        "batch_size = 32\n",
        "epochs = 40\n",
        "num_classes = 7\n",
        "input_shape = (30, 40, 3)"
      ],
      "metadata": {
        "id": "d5daMTy_zPzY"
      },
      "execution_count": null,
      "outputs": []
    },
    {
      "cell_type": "code",
      "source": [
        "# Chuẩn bị dữ liệu huấn luyện và xác thực\n",
        "train_data = '/content/drive/MyDrive/AI/data/face/Data_Face/Train'\n",
        "valid_data = '/content/drive/MyDrive/AI/data/face/Data_Face/Test'"
      ],
      "metadata": {
        "id": "h6MQ9M8U0mQJ"
      },
      "execution_count": null,
      "outputs": []
    },
    {
      "cell_type": "code",
      "source": [
        "train_datagen = ImageDataGenerator(rescale=1./255, shear_range=0.2, zoom_range=0.2, horizontal_flip=True)"
      ],
      "metadata": {
        "id": "5LSKNLfG0tTF"
      },
      "execution_count": null,
      "outputs": []
    },
    {
      "cell_type": "code",
      "source": [
        "validation_datagen = ImageDataGenerator(rescale=1./255)"
      ],
      "metadata": {
        "id": "C39JDJSF0uyd"
      },
      "execution_count": null,
      "outputs": []
    },
    {
      "cell_type": "code",
      "source": [
        "train_dataset = train_datagen.flow_from_directory(train_data, target_size=input_shape[:2], batch_size=batch_size, class_mode='categorical')"
      ],
      "metadata": {
        "colab": {
          "base_uri": "https://localhost:8080/"
        },
        "id": "M-AZfTBw0wc6",
        "outputId": "ffd90a63-8584-4b8b-cbad-9d81cd33b868"
      },
      "execution_count": null,
      "outputs": [
        {
          "output_type": "stream",
          "name": "stdout",
          "text": [
            "Found 455 images belonging to 7 classes.\n"
          ]
        }
      ]
    },
    {
      "cell_type": "code",
      "source": [
        "validation_dataset = validation_datagen.flow_from_directory(valid_data, target_size=input_shape[:2], batch_size=batch_size, class_mode='categorical')"
      ],
      "metadata": {
        "colab": {
          "base_uri": "https://localhost:8080/"
        },
        "id": "bam0dUPp0yRp",
        "outputId": "6955749b-bde3-469f-9e06-cc9532fb09bb"
      },
      "execution_count": null,
      "outputs": [
        {
          "output_type": "stream",
          "name": "stdout",
          "text": [
            "Found 56 images belonging to 7 classes.\n"
          ]
        }
      ]
    },
    {
      "cell_type": "code",
      "source": [
        "train_dataset.class_indices"
      ],
      "metadata": {
        "colab": {
          "base_uri": "https://localhost:8080/"
        },
        "id": "YdGTZd0n00PC",
        "outputId": "1e8aa716-f52e-4d81-9f5f-6d311bbff352"
      },
      "execution_count": null,
      "outputs": [
        {
          "output_type": "execute_result",
          "data": {
            "text/plain": [
              "{'An Tan': 0,\n",
              " 'Dat': 1,\n",
              " 'Minh Tan': 2,\n",
              " 'Minh Thanh': 3,\n",
              " 'Nhan': 4,\n",
              " 'Nhut': 5,\n",
              " 'Thanh': 6}"
            ]
          },
          "metadata": {},
          "execution_count": 10
        }
      ]
    },
    {
      "cell_type": "code",
      "source": [
        "# Xây dựng mô hình CNN\n",
        "model = tf.keras.Sequential([\n",
        "    tf.keras.layers.Conv2D(32, (3, 3), activation='relu', input_shape=input_shape),\n",
        "    tf.keras.layers.MaxPooling2D((2, 2)),\n",
        "    tf.keras.layers.Conv2D(64,(3, 3), activation='relu'),\n",
        "    tf.keras.layers.MaxPooling2D((2, 2)),\n",
        "    tf.keras.layers.Conv2D(128, (3, 3), activation='relu'),\n",
        "    tf.keras.layers.MaxPooling2D((2, 2)),\n",
        "    tf.keras.layers.Flatten(),\n",
        "    tf.keras.layers.Dense(128, activation='relu'),\n",
        "    tf.keras.layers.Dense(num_classes, activation='softmax')])"
      ],
      "metadata": {
        "id": "RsFMCsz002WR"
      },
      "execution_count": null,
      "outputs": []
    },
    {
      "cell_type": "code",
      "source": [
        "model.summary()\n",
        "model.compile(optimizer='adam', loss='categorical_crossentropy', metrics=['accuracy'])"
      ],
      "metadata": {
        "colab": {
          "base_uri": "https://localhost:8080/"
        },
        "id": "FRbo5eu005Xr",
        "outputId": "fbce6779-a6d5-4b57-ab08-7267b911c65e"
      },
      "execution_count": null,
      "outputs": [
        {
          "output_type": "stream",
          "name": "stdout",
          "text": [
            "Model: \"sequential\"\n",
            "_________________________________________________________________\n",
            " Layer (type)                Output Shape              Param #   \n",
            "=================================================================\n",
            " conv2d (Conv2D)             (None, 28, 38, 32)        896       \n",
            "                                                                 \n",
            " max_pooling2d (MaxPooling2D  (None, 14, 19, 32)       0         \n",
            " )                                                               \n",
            "                                                                 \n",
            " conv2d_1 (Conv2D)           (None, 12, 17, 64)        18496     \n",
            "                                                                 \n",
            " max_pooling2d_1 (MaxPooling  (None, 6, 8, 64)         0         \n",
            " 2D)                                                             \n",
            "                                                                 \n",
            " conv2d_2 (Conv2D)           (None, 4, 6, 128)         73856     \n",
            "                                                                 \n",
            " max_pooling2d_2 (MaxPooling  (None, 2, 3, 128)        0         \n",
            " 2D)                                                             \n",
            "                                                                 \n",
            " flatten (Flatten)           (None, 768)               0         \n",
            "                                                                 \n",
            " dense (Dense)               (None, 128)               98432     \n",
            "                                                                 \n",
            " dense_1 (Dense)             (None, 7)                 903       \n",
            "                                                                 \n",
            "=================================================================\n",
            "Total params: 192,583\n",
            "Trainable params: 192,583\n",
            "Non-trainable params: 0\n",
            "_________________________________________________________________\n"
          ]
        }
      ]
    },
    {
      "cell_type": "code",
      "source": [
        "history = model.fit(train_dataset,epochs=epochs, validation_data=validation_dataset)"
      ],
      "metadata": {
        "colab": {
          "base_uri": "https://localhost:8080/"
        },
        "id": "-K3H9Qt507us",
        "outputId": "604735ae-1dd0-4026-92c9-d843bad45efe"
      },
      "execution_count": null,
      "outputs": [
        {
          "output_type": "stream",
          "name": "stdout",
          "text": [
            "Epoch 1/40\n",
            "15/15 [==============================] - 8s 167ms/step - loss: 1.9059 - accuracy: 0.2396 - val_loss: 1.8766 - val_accuracy: 0.2321\n",
            "Epoch 2/40\n",
            "15/15 [==============================] - 2s 156ms/step - loss: 1.7518 - accuracy: 0.3582 - val_loss: 1.6879 - val_accuracy: 0.3036\n",
            "Epoch 3/40\n",
            "15/15 [==============================] - 2s 147ms/step - loss: 1.4233 - accuracy: 0.4484 - val_loss: 1.2632 - val_accuracy: 0.5000\n",
            "Epoch 4/40\n",
            "15/15 [==============================] - 3s 164ms/step - loss: 1.0938 - accuracy: 0.6000 - val_loss: 0.8921 - val_accuracy: 0.6786\n",
            "Epoch 5/40\n",
            "15/15 [==============================] - 3s 227ms/step - loss: 0.7590 - accuracy: 0.7385 - val_loss: 0.7211 - val_accuracy: 0.7143\n",
            "Epoch 6/40\n",
            "15/15 [==============================] - 2s 154ms/step - loss: 0.4759 - accuracy: 0.8462 - val_loss: 0.5678 - val_accuracy: 0.7143\n",
            "Epoch 7/40\n",
            "15/15 [==============================] - 2s 154ms/step - loss: 0.4718 - accuracy: 0.8176 - val_loss: 1.2382 - val_accuracy: 0.6429\n",
            "Epoch 8/40\n",
            "15/15 [==============================] - 2s 150ms/step - loss: 0.4648 - accuracy: 0.8198 - val_loss: 0.8722 - val_accuracy: 0.7143\n",
            "Epoch 9/40\n",
            "15/15 [==============================] - 3s 222ms/step - loss: 0.3051 - accuracy: 0.8945 - val_loss: 0.5757 - val_accuracy: 0.8214\n",
            "Epoch 10/40\n",
            "15/15 [==============================] - 2s 158ms/step - loss: 0.1871 - accuracy: 0.9385 - val_loss: 0.5088 - val_accuracy: 0.8393\n",
            "Epoch 11/40\n",
            "15/15 [==============================] - 3s 166ms/step - loss: 0.1816 - accuracy: 0.9407 - val_loss: 0.6718 - val_accuracy: 0.8036\n",
            "Epoch 12/40\n",
            "15/15 [==============================] - 3s 169ms/step - loss: 0.1278 - accuracy: 0.9648 - val_loss: 0.3684 - val_accuracy: 0.8393\n",
            "Epoch 13/40\n",
            "15/15 [==============================] - 4s 234ms/step - loss: 0.1167 - accuracy: 0.9780 - val_loss: 0.5832 - val_accuracy: 0.7857\n",
            "Epoch 14/40\n",
            "15/15 [==============================] - 2s 154ms/step - loss: 0.1141 - accuracy: 0.9626 - val_loss: 0.3138 - val_accuracy: 0.8750\n",
            "Epoch 15/40\n",
            "15/15 [==============================] - 2s 140ms/step - loss: 0.1251 - accuracy: 0.9582 - val_loss: 0.2682 - val_accuracy: 0.9464\n",
            "Epoch 16/40\n",
            "15/15 [==============================] - 2s 162ms/step - loss: 0.1086 - accuracy: 0.9714 - val_loss: 0.2581 - val_accuracy: 0.9286\n",
            "Epoch 17/40\n",
            "15/15 [==============================] - 3s 193ms/step - loss: 0.0764 - accuracy: 0.9802 - val_loss: 0.2479 - val_accuracy: 0.9107\n",
            "Epoch 18/40\n",
            "15/15 [==============================] - 2s 156ms/step - loss: 0.0592 - accuracy: 0.9824 - val_loss: 0.5105 - val_accuracy: 0.8750\n",
            "Epoch 19/40\n",
            "15/15 [==============================] - 2s 153ms/step - loss: 0.0592 - accuracy: 0.9824 - val_loss: 0.4886 - val_accuracy: 0.7857\n",
            "Epoch 20/40\n",
            "15/15 [==============================] - 2s 156ms/step - loss: 0.0677 - accuracy: 0.9758 - val_loss: 0.4928 - val_accuracy: 0.8036\n",
            "Epoch 21/40\n",
            "15/15 [==============================] - 3s 191ms/step - loss: 0.1047 - accuracy: 0.9692 - val_loss: 0.4357 - val_accuracy: 0.8393\n",
            "Epoch 22/40\n",
            "15/15 [==============================] - 3s 200ms/step - loss: 0.0783 - accuracy: 0.9692 - val_loss: 0.3124 - val_accuracy: 0.9286\n",
            "Epoch 23/40\n",
            "15/15 [==============================] - 2s 153ms/step - loss: 0.0764 - accuracy: 0.9714 - val_loss: 0.2241 - val_accuracy: 0.9286\n",
            "Epoch 24/40\n",
            "15/15 [==============================] - 3s 184ms/step - loss: 0.0717 - accuracy: 0.9692 - val_loss: 0.1600 - val_accuracy: 0.9643\n",
            "Epoch 25/40\n",
            "15/15 [==============================] - 4s 230ms/step - loss: 0.0587 - accuracy: 0.9802 - val_loss: 0.0632 - val_accuracy: 0.9821\n",
            "Epoch 26/40\n",
            "15/15 [==============================] - 3s 214ms/step - loss: 0.0445 - accuracy: 0.9846 - val_loss: 0.6337 - val_accuracy: 0.8036\n",
            "Epoch 27/40\n",
            "15/15 [==============================] - 3s 195ms/step - loss: 0.0550 - accuracy: 0.9868 - val_loss: 0.1055 - val_accuracy: 0.9643\n",
            "Epoch 28/40\n",
            "15/15 [==============================] - 6s 373ms/step - loss: 0.0320 - accuracy: 0.9912 - val_loss: 0.1978 - val_accuracy: 0.9286\n",
            "Epoch 29/40\n",
            "15/15 [==============================] - 2s 159ms/step - loss: 0.0233 - accuracy: 0.9956 - val_loss: 0.2295 - val_accuracy: 0.9107\n",
            "Epoch 30/40\n",
            "15/15 [==============================] - 2s 150ms/step - loss: 0.0256 - accuracy: 0.9956 - val_loss: 0.3981 - val_accuracy: 0.8929\n",
            "Epoch 31/40\n",
            "15/15 [==============================] - 3s 229ms/step - loss: 0.0161 - accuracy: 1.0000 - val_loss: 0.1667 - val_accuracy: 0.9286\n",
            "Epoch 32/40\n",
            "15/15 [==============================] - 3s 176ms/step - loss: 0.0194 - accuracy: 0.9978 - val_loss: 0.4400 - val_accuracy: 0.8929\n",
            "Epoch 33/40\n",
            "15/15 [==============================] - 2s 141ms/step - loss: 0.0107 - accuracy: 0.9978 - val_loss: 0.2840 - val_accuracy: 0.9286\n",
            "Epoch 34/40\n",
            "15/15 [==============================] - 2s 140ms/step - loss: 0.0132 - accuracy: 0.9956 - val_loss: 0.2780 - val_accuracy: 0.9107\n",
            "Epoch 35/40\n",
            "15/15 [==============================] - 3s 171ms/step - loss: 0.0319 - accuracy: 0.9956 - val_loss: 0.7574 - val_accuracy: 0.8929\n",
            "Epoch 36/40\n",
            "15/15 [==============================] - 2s 150ms/step - loss: 0.0646 - accuracy: 0.9846 - val_loss: 0.1069 - val_accuracy: 0.9286\n",
            "Epoch 37/40\n",
            "15/15 [==============================] - 2s 148ms/step - loss: 0.0388 - accuracy: 0.9890 - val_loss: 0.2589 - val_accuracy: 0.8929\n",
            "Epoch 38/40\n",
            "15/15 [==============================] - 2s 161ms/step - loss: 0.0322 - accuracy: 0.9890 - val_loss: 0.0579 - val_accuracy: 1.0000\n",
            "Epoch 39/40\n",
            "15/15 [==============================] - 3s 167ms/step - loss: 0.0185 - accuracy: 0.9956 - val_loss: 0.0835 - val_accuracy: 0.9821\n",
            "Epoch 40/40\n",
            "15/15 [==============================] - 3s 205ms/step - loss: 0.0115 - accuracy: 1.0000 - val_loss: 0.1131 - val_accuracy: 0.9643\n"
          ]
        }
      ]
    },
    {
      "cell_type": "code",
      "source": [
        "# Save model\n",
        "model.save('/content/drive/MyDrive/AI/Report/face_images.h5')"
      ],
      "metadata": {
        "id": "25bij40D09vP"
      },
      "execution_count": null,
      "outputs": []
    },
    {
      "cell_type": "code",
      "source": [
        "from keras.models import load_model\n",
        "classification_face_model = load_model('/content/drive/MyDrive/AI/Report/face_images.h5')"
      ],
      "metadata": {
        "id": "mxROLWgF1i8o"
      },
      "execution_count": null,
      "outputs": []
    },
    {
      "cell_type": "code",
      "source": [
        "score=classification_face_model.evaluate(validation_dataset, verbose=0)\n",
        "print('Test loss = ',score[0])\n",
        "print('Test accuracy = ',score[1])"
      ],
      "metadata": {
        "colab": {
          "base_uri": "https://localhost:8080/"
        },
        "id": "5t38a7oG1pU-",
        "outputId": "848ddd56-c3a6-4c61-bbe5-679a0b3ca298"
      },
      "execution_count": null,
      "outputs": [
        {
          "output_type": "stream",
          "name": "stdout",
          "text": [
            "Test loss =  0.11310616880655289\n",
            "Test accuracy =  0.9642857313156128\n"
          ]
        }
      ]
    },
    {
      "cell_type": "code",
      "source": [
        "plt.plot(history.history['accuracy'])\n",
        "plt.plot(history.history['val_accuracy'])\n",
        "plt.ylabel('accuracy')\n",
        "plt.xlabel('epoch')\n",
        "plt.legend(['Train','Validation'], loc='upper left')\n",
        "plt.show()"
      ],
      "metadata": {
        "colab": {
          "base_uri": "https://localhost:8080/",
          "height": 449
        },
        "id": "RI72CPRo1sZ1",
        "outputId": "ffbbd90f-e967-4da3-a464-cc20f37179de"
      },
      "execution_count": null,
      "outputs": [
        {
          "output_type": "display_data",
          "data": {
            "text/plain": [
              "<Figure size 640x480 with 1 Axes>"
            ],
            "image/png": "[encoded data removed]"
          },
          "metadata": {}
        }
      ]
    },
    {
      "cell_type": "code",
      "source": [
        "img = load_img('/content/drive/MyDrive/AI/data/face/Data_Face/Test/An Tan/Tan1.jpg',target_size=(30,40))\n",
        "plt.imshow(img)\n",
        "img = img_to_array(img)\n",
        "img = img.reshape(1,30,40,3)\n",
        "img = img.astype('float32')\n",
        "img = img/255\n",
        "Label = ['An Tan','Dat','Minh Tan','Minh Thanh','Nhan','Nhut','Thanh']\n",
        "print('Predict is: ',Label[int(np.argmax(classification_face_model.predict(img),axis=-1))])\n"
      ],
      "metadata": {
        "colab": {
          "base_uri": "https://localhost:8080/",
          "height": 466
        },
        "id": "ySqsST411t_9",
        "outputId": "ffa2ddf9-485f-4d2d-febe-2aefa0c3ab38"
      },
      "execution_count": null,
      "outputs": [
        {
          "output_type": "stream",
          "name": "stdout",
          "text": [
            "1/1 [==============================] - 0s 99ms/step\n",
            "Predict is:  An Tan\n"
          ]
        },
        {
          "output_type": "display_data",
          "data": {
            "text/plain": [
              "<Figure size 640x480 with 1 Axes>"
            ],
            "image/png": "[encoded data removed]"
          },
          "metadata": {}
        }
      ]
    },
    {
      "cell_type": "code",
      "source": [
        "img = load_img('/content/drive/MyDrive/AI/data/face/Data_Face/Test/Nhut/Nhut (3).jpg',target_size=(30,40))\n",
        "plt.imshow(img)\n",
        "img = img_to_array(img)\n",
        "img = img.reshape(1,30,40,3)\n",
        "img = img.astype('float32')\n",
        "img = img/255\n",
        "Label = ['An Tan','Dat','Minh Tan','Minh Thanh','Nhan','Nhut','Thanh']\n",
        "print('Predict is: ',Label[int(np.argmax(classification_face_model.predict(img),axis=-1))])"
      ],
      "metadata": {
        "colab": {
          "base_uri": "https://localhost:8080/",
          "height": 466
        },
        "id": "lz_GJizb2GZs",
        "outputId": "97b98036-f01b-4da5-e5d9-eed732eb49d9"
      },
      "execution_count": null,
      "outputs": [
        {
          "output_type": "stream",
          "name": "stdout",
          "text": [
            "1/1 [==============================] - 0s 43ms/step\n",
            "Predict is:  Nhut\n"
          ]
        },
        {
          "output_type": "display_data",
          "data": {
            "text/plain": [
              "<Figure size 640x480 with 1 Axes>"
            ],
            "image/png": "[encoded data removed]"
          },
          "metadata": {}
        }
      ]
    },
    {
      "cell_type": "code",
      "source": [
        "img = load_img('/content/drive/MyDrive/AI/data/face/Data_Face/Test/Thanh/thanh2(1).jpg',target_size=(30,40))\n",
        "plt.imshow(img)\n",
        "img = img_to_array(img)\n",
        "img = img.reshape(1,30,40,3)\n",
        "img = img.astype('float32')\n",
        "img = img/255\n",
        "Label = ['An Tan','Dat','Minh Tan','Minh Thanh','Nhan','Nhut','Thanh']\n",
        "print('Predict is: ',Label[int(np.argmax(classification_face_model.predict(img),axis=-1))])"
      ],
      "metadata": {
        "colab": {
          "base_uri": "https://localhost:8080/",
          "height": 466
        },
        "id": "0bk-sziO2y6L",
        "outputId": "5140a9e9-fbdc-4b3a-e583-a83bfb2e3fb0"
      },
      "execution_count": null,
      "outputs": [
        {
          "output_type": "stream",
          "name": "stdout",
          "text": [
            "1/1 [==============================] - 0s 48ms/step\n",
            "Predict is:  Thanh\n"
          ]
        },
        {
          "output_type": "display_data",
          "data": {
            "text/plain": [
              "<Figure size 640x480 with 1 Axes>"
            ],
            "image/png": "[encoded data removed]"
          },
          "metadata": {}
        }
      ]
    },
    {
      "cell_type": "code",
      "source": [],
      "metadata": {
        "id": "P-MF4cKO235k"
      },
      "execution_count": null,
      "outputs": []
    }
  ]
}